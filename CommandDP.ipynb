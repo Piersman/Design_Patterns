{
 "cells": [
  {
   "cell_type": "markdown",
   "id": "495834b8",
   "metadata": {},
   "source": [
    "# Logbook 16 - Command Pattern"
   ]
  },
  {
   "cell_type": "markdown",
   "id": "c89d706b",
   "metadata": {},
   "source": [
    "Below is an example of controling a light without using the command pattern"
   ]
  },
  {
   "cell_type": "code",
   "execution_count": 3,
   "id": "46a2ed92",
   "metadata": {},
   "outputs": [
    {
     "name": "stdout",
     "output_type": "stream",
     "text": [
      "The light is on\n",
      "The light is off\n"
     ]
    }
   ],
   "source": [
    "# Command interface with a single method execute()\n",
    "class Command:\n",
    "def execute(self):\n",
    "pass\n",
    "# Receiver class\n",
    "class Light:\n",
    "# Method to turn the light on\n",
    "def turn_on(self):\n",
    "print(\"The light is on\")\n",
    "# Method to turn the light off\n",
    "def turn_off(self):\n",
    "print(\"The light is off\")\n",
    "# ConcreteCommand to turn on the light\n",
    "class TurnOnCommand(Command):\n",
    "def __init__(self, light):\n",
    "self._light = light\n",
    "# The execute method calls the receiver's turn_on method\n",
    "def execute(self):\n",
    "self._light.turn_on()\n",
    "# ConcreteCommand to turn off the light\n",
    "class TurnOffCommand(Command):\n",
    "def __init__(self, light):\n",
    "self._light = light\n",
    "# The execute method calls the receiver's turn_off method\n",
    "def execute(self):\n",
    "self._light.turn_off()\n",
    "# Invoker class\n",
    "class RemoteControl:\n",
    "# Method to execute any command\n",
    "def submit(self, command):\n",
    "command.execute()\n",
    "# Client code\n",
    "# Receiver\n",
    "light = Light()\n",
    "# Command to turn light on\n",
    "turnOnCommand = TurnOnCommand(light)\n",
    "# Command to turn light off\n",
    "turnOffCommand = TurnOffCommand(light)\n",
    "# Invoker\n",
    "remote = RemoteControl()\n",
    "# Turn the light on\n",
    "remote.submit(turnOnCommand)\n",
    "# Turn the light off\n",
    "remote.submit(turnOffCommand)"
   ]
  },
  {
   "cell_type": "markdown",
   "id": "de635a77",
   "metadata": {},
   "source": [
    "Below is an example of controling a light with the command pattern"
   ]
  },
  {
   "cell_type": "code",
   "execution_count": 2,
   "id": "8609c55c",
   "metadata": {},
   "outputs": [
    {
     "name": "stdout",
     "output_type": "stream",
     "text": [
      "The light is on\n",
      "The light is off\n"
     ]
    }
   ],
   "source": [
    "# Command interface with a single method execute()\n",
    "class Command:\n",
    "    def execute(self):\n",
    "        pass\n",
    "\n",
    "# Receiver class\n",
    "class Light:\n",
    "    # Method to turn the light on\n",
    "    def turn_on(self):\n",
    "        print(\"The light is on\")\n",
    "    \n",
    "    # Method to turn the light off\n",
    "    def turn_off(self):\n",
    "        print(\"The light is off\")\n",
    "\n",
    "# ConcreteCommand to turn on the light\n",
    "class TurnOnCommand(Command):\n",
    "    def __init__(self, light):\n",
    "        self._light = light\n",
    "    \n",
    "    # The execute method calls the receiver's turn_on method\n",
    "    def execute(self):\n",
    "        self._light.turn_on()\n",
    "\n",
    "# ConcreteCommand to turn off the light\n",
    "class TurnOffCommand(Command):\n",
    "    def __init__(self, light):\n",
    "        self._light = light\n",
    "    \n",
    "    # The execute method calls the receiver's turn_off method\n",
    "    def execute(self):\n",
    "        self._light.turn_off()\n",
    "\n",
    "# Invoker class\n",
    "class RemoteControl:\n",
    "    # Method to execute any command\n",
    "    def submit(self, command):\n",
    "        command.execute()\n",
    "\n",
    "        \n",
    "\n",
    "# Client code\n",
    "# Receiver\n",
    "light = Light()\n",
    "# Command to turn light on\n",
    "turnOnCommand = TurnOnCommand(light)\n",
    "# Command to turn light off\n",
    "turnOffCommand = TurnOffCommand(light)\n",
    "\n",
    "# Invoker\n",
    "remote = RemoteControl()\n",
    "# Turn the light on\n",
    "remote.submit(turnOnCommand)\n",
    "# Turn the light off\n",
    "remote.submit(turnOffCommand)\n"
   ]
  }
 ],
 "metadata": {
  "kernelspec": {
   "display_name": "Python 3 (ipykernel)",
   "language": "python",
   "name": "python3"
  },
  "language_info": {
   "codemirror_mode": {
    "name": "ipython",
    "version": 3
   },
   "file_extension": ".py",
   "mimetype": "text/x-python",
   "name": "python",
   "nbconvert_exporter": "python",
   "pygments_lexer": "ipython3",
   "version": "3.9.17"
  }
 },
 "nbformat": 4,
 "nbformat_minor": 5
}
